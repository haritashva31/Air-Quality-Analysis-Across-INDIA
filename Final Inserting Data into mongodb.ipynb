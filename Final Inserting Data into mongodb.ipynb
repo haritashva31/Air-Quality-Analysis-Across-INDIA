{
 "cells": [
  {
   "cell_type": "code",
   "execution_count": 1,
   "id": "5bc38ccb",
   "metadata": {},
   "outputs": [
    {
     "name": "stdout",
     "output_type": "stream",
     "text": [
      "Data inserted into MongoDB successfully.\n"
     ]
    }
   ],
   "source": [
    "import os\n",
    "import pandas as pd\n",
    "from pymongo import MongoClient\n",
    "\n",
    "def insert_data_to_mongodb(measurement_files_directory):\n",
    "    # Connect to MongoDB\n",
    "    client = MongoClient(\"mongodb://localhost:27017/\")\n",
    "    db = client[\"hello\"]\n",
    "\n",
    "    # Collection for stations_info\n",
    "    #collection_stations_info = db[\"Stations_info\"]\n",
    "\n",
    "    # Load stations_info.csv\n",
    "    #df_stations_info = pd.read_csv(stations_info_file_path)\n",
    "\n",
    "    # Insert stations_info data into MongoDB\n",
    "    #stations_info_records = df_stations_info.to_dict(orient=\"records\")\n",
    "    #collection_stations_info.insert_many(stations_info_records)\n",
    "\n",
    "    # Iterate through measurement files\n",
    "    for file_name in os.listdir(measurement_files_directory):\n",
    "        if file_name.endswith(\".csv\"):\n",
    "            df_measurement = pd.read_csv(os.path.join(measurement_files_directory, file_name))\n",
    "            df_measurement[\"file_name\"] = os.path.splitext(file_name)[0]\n",
    "            grouped_data = df_measurement.groupby(\"file_name\")\n",
    "\n",
    "            for station, data in grouped_data:\n",
    "                collection_station = db[station]\n",
    "                records = data.to_dict(orient=\"records\")\n",
    "                collection_station.insert_many(records)\n",
    "\n",
    "    print(\"Data inserted into MongoDB successfully.\")\n",
    "\n",
    "#stations_info_path = \"/Users/Downloads/stations_info.csv\"\n",
    "measurement_files_path = \"/Users/Downloads/hello\"\n",
    "\n",
    "insert_data_to_mongodb(measurement_files_path)\n"
   ]
  },
  {
   "cell_type": "code",
   "execution_count": null,
   "id": "9bcecdc1",
   "metadata": {},
   "outputs": [],
   "source": []
  }
 ],
 "metadata": {
  "kernelspec": {
   "display_name": "Python 3 (ipykernel)",
   "language": "python",
   "name": "python3"
  },
  "language_info": {
   "codemirror_mode": {
    "name": "ipython",
    "version": 3
   },
   "file_extension": ".py",
   "mimetype": "text/x-python",
   "name": "python",
   "nbconvert_exporter": "python",
   "pygments_lexer": "ipython3",
   "version": "3.11.3"
  }
 },
 "nbformat": 4,
 "nbformat_minor": 5
}
